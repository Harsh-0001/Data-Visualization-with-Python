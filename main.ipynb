{
 "cells": [
  {
   "cell_type": "markdown",
   "source": [
    "Data Preprocessing"
   ],
   "metadata": {
    "collapsed": false
   }
  },
  {
   "cell_type": "markdown",
   "source": [
    "Importing the libraries"
   ],
   "metadata": {
    "collapsed": false
   }
  },
  {
   "cell_type": "code",
   "execution_count": 40,
   "metadata": {
    "collapsed": true,
    "ExecuteTime": {
     "start_time": "2023-04-28T13:18:51.096592Z",
     "end_time": "2023-04-28T13:18:51.246468Z"
    }
   },
   "outputs": [],
   "source": [
    "import numpy as np\n",
    "import matplotlib.pyplot as plt\n",
    "import pandas as pd"
   ]
  },
  {
   "cell_type": "markdown",
   "source": [
    "Importing the dataset"
   ],
   "metadata": {
    "collapsed": false
   }
  },
  {
   "cell_type": "code",
   "execution_count": 41,
   "outputs": [
    {
     "data": {
      "text/plain": "       id        city        date player_of_match  \\\n0  335982   Bangalore  2008-04-18     BB McCullum   \n1  335983  Chandigarh  2008-04-19      MEK Hussey   \n2  335984       Delhi  2008-04-19     MF Maharoof   \n3  335985      Mumbai  2008-04-20      MV Boucher   \n4  335986     Kolkata  2008-04-20       DJ Hussey   \n\n                                        venue  neutral_venue  \\\n0                       M Chinnaswamy Stadium              0   \n1  Punjab Cricket Association Stadium, Mohali              0   \n2                            Feroz Shah Kotla              0   \n3                            Wankhede Stadium              0   \n4                                Eden Gardens              0   \n\n                         team1                        team2  \\\n0  Royal Challengers Bangalore        Kolkata Knight Riders   \n1              Kings XI Punjab          Chennai Super Kings   \n2             Delhi Daredevils             Rajasthan Royals   \n3               Mumbai Indians  Royal Challengers Bangalore   \n4        Kolkata Knight Riders              Deccan Chargers   \n\n                   toss_winner toss_decision                       winner  \\\n0  Royal Challengers Bangalore         field        Kolkata Knight Riders   \n1          Chennai Super Kings           bat          Chennai Super Kings   \n2             Rajasthan Royals           bat             Delhi Daredevils   \n3               Mumbai Indians           bat  Royal Challengers Bangalore   \n4              Deccan Chargers           bat        Kolkata Knight Riders   \n\n    result  result_margin eliminator method    umpire1         umpire2  \n0     runs          140.0          N    NaN  Asad Rauf     RE Koertzen  \n1     runs           33.0          N    NaN  MR Benson      SL Shastri  \n2  wickets            9.0          N    NaN  Aleem Dar  GA Pratapkumar  \n3  wickets            5.0          N    NaN   SJ Davis       DJ Harper  \n4  wickets            5.0          N    NaN  BF Bowden     K Hariharan  ",
      "text/html": "<div>\n<style scoped>\n    .dataframe tbody tr th:only-of-type {\n        vertical-align: middle;\n    }\n\n    .dataframe tbody tr th {\n        vertical-align: top;\n    }\n\n    .dataframe thead th {\n        text-align: right;\n    }\n</style>\n<table border=\"1\" class=\"dataframe\">\n  <thead>\n    <tr style=\"text-align: right;\">\n      <th></th>\n      <th>id</th>\n      <th>city</th>\n      <th>date</th>\n      <th>player_of_match</th>\n      <th>venue</th>\n      <th>neutral_venue</th>\n      <th>team1</th>\n      <th>team2</th>\n      <th>toss_winner</th>\n      <th>toss_decision</th>\n      <th>winner</th>\n      <th>result</th>\n      <th>result_margin</th>\n      <th>eliminator</th>\n      <th>method</th>\n      <th>umpire1</th>\n      <th>umpire2</th>\n    </tr>\n  </thead>\n  <tbody>\n    <tr>\n      <th>0</th>\n      <td>335982</td>\n      <td>Bangalore</td>\n      <td>2008-04-18</td>\n      <td>BB McCullum</td>\n      <td>M Chinnaswamy Stadium</td>\n      <td>0</td>\n      <td>Royal Challengers Bangalore</td>\n      <td>Kolkata Knight Riders</td>\n      <td>Royal Challengers Bangalore</td>\n      <td>field</td>\n      <td>Kolkata Knight Riders</td>\n      <td>runs</td>\n      <td>140.0</td>\n      <td>N</td>\n      <td>NaN</td>\n      <td>Asad Rauf</td>\n      <td>RE Koertzen</td>\n    </tr>\n    <tr>\n      <th>1</th>\n      <td>335983</td>\n      <td>Chandigarh</td>\n      <td>2008-04-19</td>\n      <td>MEK Hussey</td>\n      <td>Punjab Cricket Association Stadium, Mohali</td>\n      <td>0</td>\n      <td>Kings XI Punjab</td>\n      <td>Chennai Super Kings</td>\n      <td>Chennai Super Kings</td>\n      <td>bat</td>\n      <td>Chennai Super Kings</td>\n      <td>runs</td>\n      <td>33.0</td>\n      <td>N</td>\n      <td>NaN</td>\n      <td>MR Benson</td>\n      <td>SL Shastri</td>\n    </tr>\n    <tr>\n      <th>2</th>\n      <td>335984</td>\n      <td>Delhi</td>\n      <td>2008-04-19</td>\n      <td>MF Maharoof</td>\n      <td>Feroz Shah Kotla</td>\n      <td>0</td>\n      <td>Delhi Daredevils</td>\n      <td>Rajasthan Royals</td>\n      <td>Rajasthan Royals</td>\n      <td>bat</td>\n      <td>Delhi Daredevils</td>\n      <td>wickets</td>\n      <td>9.0</td>\n      <td>N</td>\n      <td>NaN</td>\n      <td>Aleem Dar</td>\n      <td>GA Pratapkumar</td>\n    </tr>\n    <tr>\n      <th>3</th>\n      <td>335985</td>\n      <td>Mumbai</td>\n      <td>2008-04-20</td>\n      <td>MV Boucher</td>\n      <td>Wankhede Stadium</td>\n      <td>0</td>\n      <td>Mumbai Indians</td>\n      <td>Royal Challengers Bangalore</td>\n      <td>Mumbai Indians</td>\n      <td>bat</td>\n      <td>Royal Challengers Bangalore</td>\n      <td>wickets</td>\n      <td>5.0</td>\n      <td>N</td>\n      <td>NaN</td>\n      <td>SJ Davis</td>\n      <td>DJ Harper</td>\n    </tr>\n    <tr>\n      <th>4</th>\n      <td>335986</td>\n      <td>Kolkata</td>\n      <td>2008-04-20</td>\n      <td>DJ Hussey</td>\n      <td>Eden Gardens</td>\n      <td>0</td>\n      <td>Kolkata Knight Riders</td>\n      <td>Deccan Chargers</td>\n      <td>Deccan Chargers</td>\n      <td>bat</td>\n      <td>Kolkata Knight Riders</td>\n      <td>wickets</td>\n      <td>5.0</td>\n      <td>N</td>\n      <td>NaN</td>\n      <td>BF Bowden</td>\n      <td>K Hariharan</td>\n    </tr>\n  </tbody>\n</table>\n</div>"
     },
     "execution_count": 41,
     "metadata": {},
     "output_type": "execute_result"
    }
   ],
   "source": [
    "dataset = pd.read_csv('./archive/IPL Matches 2008-2020.csv')\n",
    "dataset.head()"
   ],
   "metadata": {
    "collapsed": false,
    "ExecuteTime": {
     "start_time": "2023-04-28T13:18:52.794494Z",
     "end_time": "2023-04-28T13:18:52.895563Z"
    }
   }
  },
  {
   "cell_type": "code",
   "execution_count": 42,
   "outputs": [
    {
     "data": {
      "text/plain": "Mumbai Indians                 120\nChennai Super Kings            106\nKolkata Knight Riders           99\nRoyal Challengers Bangalore     91\nKings XI Punjab                 88\nRajasthan Royals                81\nDelhi Daredevils                67\nSunrisers Hyderabad             66\nDeccan Chargers                 29\nDelhi Capitals                  19\nGujarat Lions                   13\nPune Warriors                   12\nRising Pune Supergiant          10\nKochi Tuskers Kerala             6\nRising Pune Supergiants          5\nName: winner, dtype: int64"
     },
     "execution_count": 42,
     "metadata": {},
     "output_type": "execute_result"
    }
   ],
   "source": [
    "dataset['winner'].value_counts()"
   ],
   "metadata": {
    "collapsed": false,
    "ExecuteTime": {
     "start_time": "2023-04-28T13:18:54.138900Z",
     "end_time": "2023-04-28T13:18:54.275509Z"
    }
   }
  },
  {
   "cell_type": "code",
   "execution_count": 43,
   "outputs": [
    {
     "data": {
      "text/plain": "                 id  neutral_venue  result_margin\ncount  8.160000e+02     816.000000     799.000000\nmean   7.563496e+05       0.094363      17.321652\nstd    3.058943e+05       0.292512      22.068427\nmin    3.359820e+05       0.000000       1.000000\n25%    5.012278e+05       0.000000       6.000000\n50%    7.292980e+05       0.000000       8.000000\n75%    1.082626e+06       0.000000      19.500000\nmax    1.237181e+06       1.000000     146.000000",
      "text/html": "<div>\n<style scoped>\n    .dataframe tbody tr th:only-of-type {\n        vertical-align: middle;\n    }\n\n    .dataframe tbody tr th {\n        vertical-align: top;\n    }\n\n    .dataframe thead th {\n        text-align: right;\n    }\n</style>\n<table border=\"1\" class=\"dataframe\">\n  <thead>\n    <tr style=\"text-align: right;\">\n      <th></th>\n      <th>id</th>\n      <th>neutral_venue</th>\n      <th>result_margin</th>\n    </tr>\n  </thead>\n  <tbody>\n    <tr>\n      <th>count</th>\n      <td>8.160000e+02</td>\n      <td>816.000000</td>\n      <td>799.000000</td>\n    </tr>\n    <tr>\n      <th>mean</th>\n      <td>7.563496e+05</td>\n      <td>0.094363</td>\n      <td>17.321652</td>\n    </tr>\n    <tr>\n      <th>std</th>\n      <td>3.058943e+05</td>\n      <td>0.292512</td>\n      <td>22.068427</td>\n    </tr>\n    <tr>\n      <th>min</th>\n      <td>3.359820e+05</td>\n      <td>0.000000</td>\n      <td>1.000000</td>\n    </tr>\n    <tr>\n      <th>25%</th>\n      <td>5.012278e+05</td>\n      <td>0.000000</td>\n      <td>6.000000</td>\n    </tr>\n    <tr>\n      <th>50%</th>\n      <td>7.292980e+05</td>\n      <td>0.000000</td>\n      <td>8.000000</td>\n    </tr>\n    <tr>\n      <th>75%</th>\n      <td>1.082626e+06</td>\n      <td>0.000000</td>\n      <td>19.500000</td>\n    </tr>\n    <tr>\n      <th>max</th>\n      <td>1.237181e+06</td>\n      <td>1.000000</td>\n      <td>146.000000</td>\n    </tr>\n  </tbody>\n</table>\n</div>"
     },
     "execution_count": 43,
     "metadata": {},
     "output_type": "execute_result"
    }
   ],
   "source": [
    "dataset.describe()"
   ],
   "metadata": {
    "collapsed": false,
    "ExecuteTime": {
     "start_time": "2023-04-28T13:18:55.546206Z",
     "end_time": "2023-04-28T13:18:55.615826Z"
    }
   }
  },
  {
   "cell_type": "code",
   "execution_count": 44,
   "outputs": [
    {
     "data": {
      "text/plain": "array([['Kolkata Knight Riders', 'runs'],\n       ['Chennai Super Kings', 'runs'],\n       ['Delhi Daredevils', 'wickets'],\n       ...,\n       ['Sunrisers Hyderabad', 'wickets'],\n       ['Delhi Capitals', 'runs'],\n       ['Mumbai Indians', 'wickets']], dtype=object)"
     },
     "execution_count": 44,
     "metadata": {},
     "output_type": "execute_result"
    }
   ],
   "source": [
    "x = dataset.iloc[:, :9].values\n",
    "y = dataset.iloc[:,10:12].values\n",
    "y"
   ],
   "metadata": {
    "collapsed": false,
    "ExecuteTime": {
     "start_time": "2023-04-28T13:18:56.847751Z",
     "end_time": "2023-04-28T13:18:56.925382Z"
    }
   }
  },
  {
   "cell_type": "markdown",
   "source": [
    "Handling the missing data"
   ],
   "metadata": {
    "collapsed": false
   }
  },
  {
   "cell_type": "code",
   "execution_count": 45,
   "outputs": [],
   "source": [
    "from sklearn.impute import SimpleImputer\n",
    "imputer = SimpleImputer(missing_values=np.nan, strategy='most_frequent')\n",
    "imputer.fit(x[:, :])\n",
    "x[:, :] = imputer.transform(x[:, :])"
   ],
   "metadata": {
    "collapsed": false,
    "ExecuteTime": {
     "start_time": "2023-04-28T13:18:58.902370Z",
     "end_time": "2023-04-28T13:18:58.957548Z"
    }
   }
  },
  {
   "cell_type": "code",
   "execution_count": 46,
   "outputs": [
    {
     "data": {
      "text/plain": "0    0\n1    0\n2    0\n3    0\n4    0\n5    0\n6    0\n7    0\n8    0\ndtype: int64"
     },
     "execution_count": 46,
     "metadata": {},
     "output_type": "execute_result"
    }
   ],
   "source": [
    "#Checking for missing values\n",
    "pd.DataFrame(x).isnull().sum()"
   ],
   "metadata": {
    "collapsed": false,
    "ExecuteTime": {
     "start_time": "2023-04-28T13:18:59.810818Z",
     "end_time": "2023-04-28T13:18:59.876287Z"
    }
   }
  },
  {
   "cell_type": "code",
   "execution_count": 47,
   "outputs": [
    {
     "name": "stdout",
     "output_type": "stream",
     "text": [
      "[[335982 'Bangalore' '2008-04-18' ... 'Royal Challengers Bangalore'\n",
      "  'Kolkata Knight Riders' 'Royal Challengers Bangalore']\n",
      " [335983 'Chandigarh' '2008-04-19' ... 'Kings XI Punjab'\n",
      "  'Chennai Super Kings' 'Chennai Super Kings']\n",
      " [335984 'Delhi' '2008-04-19' ... 'Delhi Daredevils' 'Rajasthan Royals'\n",
      "  'Rajasthan Royals']\n",
      " ...\n",
      " [1237178 'Abu Dhabi' '2020-11-06' ... 'Royal Challengers Bangalore'\n",
      "  'Sunrisers Hyderabad' 'Sunrisers Hyderabad']\n",
      " [1237180 'Abu Dhabi' '2020-11-08' ... 'Delhi Capitals'\n",
      "  'Sunrisers Hyderabad' 'Delhi Capitals']\n",
      " [1237181 'Dubai' '2020-11-10' ... 'Delhi Capitals' 'Mumbai Indians'\n",
      "  'Delhi Capitals']]\n"
     ]
    }
   ],
   "source": [
    "print(x)"
   ],
   "metadata": {
    "collapsed": false,
    "ExecuteTime": {
     "start_time": "2023-04-28T13:19:00.905132Z",
     "end_time": "2023-04-28T13:19:01.001433Z"
    }
   }
  },
  {
   "cell_type": "markdown",
   "source": [
    "Dividing the dataset into training and test set"
   ],
   "metadata": {
    "collapsed": false
   }
  },
  {
   "cell_type": "code",
   "execution_count": 48,
   "outputs": [],
   "source": [
    "from sklearn.model_selection import train_test_split\n",
    "X_train, X_test, y_train, y_test = train_test_split(x, y, test_size = 0.2, random_state = 1)"
   ],
   "metadata": {
    "collapsed": false,
    "ExecuteTime": {
     "start_time": "2023-04-28T13:19:02.960985Z",
     "end_time": "2023-04-28T13:19:03.018852Z"
    }
   }
  },
  {
   "cell_type": "code",
   "execution_count": 49,
   "outputs": [
    {
     "name": "stdout",
     "output_type": "stream",
     "text": [
      "[[501262 'Mumbai' '2011-05-19' ... 'Pune Warriors'\n",
      "  'Kolkata Knight Riders' 'Kolkata Knight Riders']\n",
      " [1136613 'Jaipur' '2018-05-19' ... 'Rajasthan Royals'\n",
      "  'Royal Challengers Bangalore' 'Rajasthan Royals']\n",
      " [336023 'Jaipur' '2008-05-17' ... 'Rajasthan Royals'\n",
      "  'Royal Challengers Bangalore' 'Royal Challengers Bangalore']\n",
      " ...\n",
      " [392197 'Port Elizabeth' '2009-04-27' ... 'Kolkata Knight Riders'\n",
      "  'Mumbai Indians' 'Mumbai Indians']\n",
      " [501259 'Mumbai' '2011-05-16' ... 'Pune Warriors' 'Deccan Chargers'\n",
      "  'Deccan Chargers']\n",
      " [336019 'Chandigarh' '2008-05-28' ... 'Kings XI Punjab'\n",
      "  'Rajasthan Royals' 'Rajasthan Royals']]\n"
     ]
    }
   ],
   "source": [
    "print(X_train)"
   ],
   "metadata": {
    "collapsed": false,
    "ExecuteTime": {
     "start_time": "2023-04-28T13:19:03.931577Z",
     "end_time": "2023-04-28T13:19:03.990464Z"
    }
   }
  },
  {
   "cell_type": "code",
   "execution_count": 50,
   "outputs": [
    {
     "name": "stdout",
     "output_type": "stream",
     "text": [
      "[[392206 'Johannesburg' '2009-05-02' ... 'Chennai Super Kings'\n",
      "  'Delhi Daredevils' 'Delhi Daredevils']\n",
      " [1136608 'Indore' '2018-05-14' ... 'Kings XI Punjab'\n",
      "  'Royal Challengers Bangalore' 'Royal Challengers Bangalore']\n",
      " [335990 'Hyderabad' '2008-04-24' ... 'Deccan Chargers'\n",
      "  'Rajasthan Royals' 'Rajasthan Royals']\n",
      " ...\n",
      " [336017 'Kolkata' '2008-05-13' ... 'Kolkata Knight Riders'\n",
      "  'Delhi Daredevils' 'Kolkata Knight Riders']\n",
      " [1136565 'Chennai' '2018-04-10' ... 'Chennai Super Kings'\n",
      "  'Kolkata Knight Riders' 'Chennai Super Kings']\n",
      " [598039 'Hyderabad' '2013-05-01' ... 'Sunrisers Hyderabad'\n",
      "  'Mumbai Indians' 'Mumbai Indians']]\n"
     ]
    }
   ],
   "source": [
    "print(X_test)"
   ],
   "metadata": {
    "collapsed": false,
    "ExecuteTime": {
     "start_time": "2023-04-28T13:19:04.864277Z",
     "end_time": "2023-04-28T13:19:04.925930Z"
    }
   }
  },
  {
   "cell_type": "code",
   "execution_count": 51,
   "outputs": [
    {
     "name": "stdout",
     "output_type": "stream",
     "text": [
      "[['Kolkata Knight Riders' 'wickets']\n",
      " ['Rajasthan Royals' 'runs']\n",
      " ['Rajasthan Royals' 'runs']\n",
      " ...\n",
      " ['Mumbai Indians' 'runs']\n",
      " ['Deccan Chargers' 'wickets']\n",
      " ['Kings XI Punjab' 'runs']]\n"
     ]
    }
   ],
   "source": [
    "print(y_train)"
   ],
   "metadata": {
    "collapsed": false,
    "ExecuteTime": {
     "start_time": "2023-04-28T13:19:05.838938Z",
     "end_time": "2023-04-28T13:19:05.883887Z"
    }
   }
  },
  {
   "cell_type": "code",
   "execution_count": 52,
   "outputs": [
    {
     "name": "stdout",
     "output_type": "stream",
     "text": [
      "[['Chennai Super Kings' 'runs']\n",
      " ['Royal Challengers Bangalore' 'wickets']\n",
      " ['Rajasthan Royals' 'wickets']\n",
      " [nan nan]\n",
      " ['Kings XI Punjab' 'runs']\n",
      " ['Deccan Chargers' 'wickets']\n",
      " ['Kings XI Punjab' 'wickets']\n",
      " ['Kings XI Punjab' 'wickets']\n",
      " ['Kings XI Punjab' 'runs']\n",
      " ['Sunrisers Hyderabad' 'runs']\n",
      " ['Sunrisers Hyderabad' 'runs']\n",
      " ['Gujarat Lions' 'runs']\n",
      " ['Chennai Super Kings' 'wickets']\n",
      " ['Delhi Capitals' 'runs']\n",
      " ['Mumbai Indians' 'wickets']\n",
      " ['Delhi Daredevils' 'wickets']\n",
      " ['Sunrisers Hyderabad' 'runs']\n",
      " ['Mumbai Indians' 'runs']\n",
      " ['Royal Challengers Bangalore' 'wickets']\n",
      " ['Royal Challengers Bangalore' 'runs']\n",
      " ['Chennai Super Kings' 'runs']\n",
      " ['Pune Warriors' 'runs']\n",
      " ['Mumbai Indians' 'runs']\n",
      " ['Kings XI Punjab' 'runs']\n",
      " ['Rajasthan Royals' 'wickets']\n",
      " ['Rajasthan Royals' 'wickets']\n",
      " ['Rajasthan Royals' 'wickets']\n",
      " ['Chennai Super Kings' 'wickets']\n",
      " ['Royal Challengers Bangalore' 'runs']\n",
      " ['Chennai Super Kings' 'wickets']\n",
      " ['Sunrisers Hyderabad' 'runs']\n",
      " ['Gujarat Lions' 'wickets']\n",
      " ['Royal Challengers Bangalore' 'wickets']\n",
      " ['Kings XI Punjab' 'runs']\n",
      " ['Gujarat Lions' 'wickets']\n",
      " ['Kings XI Punjab' 'runs']\n",
      " ['Delhi Daredevils' 'wickets']\n",
      " ['Rajasthan Royals' 'wickets']\n",
      " ['Rajasthan Royals' 'runs']\n",
      " ['Rajasthan Royals' 'runs']\n",
      " ['Royal Challengers Bangalore' 'wickets']\n",
      " ['Delhi Daredevils' 'wickets']\n",
      " ['Mumbai Indians' 'wickets']\n",
      " ['Gujarat Lions' 'wickets']\n",
      " ['Royal Challengers Bangalore' 'runs']\n",
      " ['Deccan Chargers' 'runs']\n",
      " ['Sunrisers Hyderabad' 'wickets']\n",
      " ['Delhi Daredevils' 'runs']\n",
      " ['Mumbai Indians' 'runs']\n",
      " ['Rajasthan Royals' 'wickets']\n",
      " ['Sunrisers Hyderabad' 'runs']\n",
      " [nan nan]\n",
      " ['Royal Challengers Bangalore' 'wickets']\n",
      " ['Mumbai Indians' 'runs']\n",
      " ['Rajasthan Royals' 'wickets']\n",
      " ['Mumbai Indians' 'runs']\n",
      " ['Kolkata Knight Riders' 'runs']\n",
      " ['Delhi Daredevils' 'wickets']\n",
      " ['Kolkata Knight Riders' 'runs']\n",
      " ['Pune Warriors' 'wickets']\n",
      " ['Royal Challengers Bangalore' 'runs']\n",
      " ['Sunrisers Hyderabad' 'runs']\n",
      " ['Chennai Super Kings' 'wickets']\n",
      " ['Royal Challengers Bangalore' 'wickets']\n",
      " ['Rajasthan Royals' 'wickets']\n",
      " ['Royal Challengers Bangalore' 'runs']\n",
      " ['Rajasthan Royals' 'runs']\n",
      " ['Sunrisers Hyderabad' 'wickets']\n",
      " ['Gujarat Lions' 'wickets']\n",
      " ['Kings XI Punjab' 'wickets']\n",
      " ['Sunrisers Hyderabad' 'runs']\n",
      " ['Mumbai Indians' 'wickets']\n",
      " ['Mumbai Indians' 'runs']\n",
      " ['Chennai Super Kings' 'wickets']\n",
      " ['Chennai Super Kings' 'runs']\n",
      " ['Kolkata Knight Riders' 'wickets']\n",
      " ['Rajasthan Royals' 'wickets']\n",
      " ['Kolkata Knight Riders' 'wickets']\n",
      " ['Kings XI Punjab' 'runs']\n",
      " ['Kings XI Punjab' 'wickets']\n",
      " ['Royal Challengers Bangalore' 'wickets']\n",
      " ['Rajasthan Royals' 'wickets']\n",
      " ['Delhi Daredevils' 'wickets']\n",
      " ['Delhi Daredevils' 'wickets']\n",
      " ['Rajasthan Royals' 'wickets']\n",
      " ['Royal Challengers Bangalore' 'wickets']\n",
      " ['Royal Challengers Bangalore' 'runs']\n",
      " ['Royal Challengers Bangalore' 'runs']\n",
      " ['Royal Challengers Bangalore' 'wickets']\n",
      " ['Kings XI Punjab' 'runs']\n",
      " ['Delhi Daredevils' 'runs']\n",
      " ['Sunrisers Hyderabad' 'runs']\n",
      " ['Chennai Super Kings' 'runs']\n",
      " ['Chennai Super Kings' 'runs']\n",
      " ['Gujarat Lions' 'wickets']\n",
      " ['Chennai Super Kings' 'runs']\n",
      " ['Kochi Tuskers Kerala' 'wickets']\n",
      " ['Kings XI Punjab' 'wickets']\n",
      " ['Chennai Super Kings' 'wickets']\n",
      " ['Mumbai Indians' 'runs']\n",
      " ['Mumbai Indians' 'wickets']\n",
      " ['Rising Pune Supergiants' 'runs']\n",
      " ['Rajasthan Royals' 'runs']\n",
      " ['Kolkata Knight Riders' 'runs']\n",
      " ['Rajasthan Royals' 'wickets']\n",
      " ['Delhi Daredevils' 'wickets']\n",
      " ['Delhi Daredevils' 'wickets']\n",
      " ['Chennai Super Kings' 'runs']\n",
      " ['Rising Pune Supergiants' 'wickets']\n",
      " ['Kolkata Knight Riders' 'wickets']\n",
      " ['Chennai Super Kings' 'runs']\n",
      " ['Chennai Super Kings' 'wickets']\n",
      " ['Mumbai Indians' 'wickets']\n",
      " ['Sunrisers Hyderabad' 'wickets']\n",
      " ['Royal Challengers Bangalore' 'runs']\n",
      " ['Kings XI Punjab' 'wickets']\n",
      " ['Delhi Daredevils' 'wickets']\n",
      " ['Chennai Super Kings' 'wickets']\n",
      " ['Chennai Super Kings' 'runs']\n",
      " ['Delhi Daredevils' 'wickets']\n",
      " ['Chennai Super Kings' 'wickets']\n",
      " ['Kolkata Knight Riders' 'wickets']\n",
      " ['Chennai Super Kings' 'wickets']\n",
      " ['Delhi Daredevils' 'wickets']\n",
      " ['Pune Warriors' 'runs']\n",
      " ['Rajasthan Royals' 'runs']\n",
      " ['Chennai Super Kings' 'runs']\n",
      " ['Sunrisers Hyderabad' 'runs']\n",
      " ['Delhi Daredevils' 'wickets']\n",
      " ['Kings XI Punjab' 'wickets']\n",
      " ['Kings XI Punjab' 'wickets']\n",
      " ['Mumbai Indians' 'wickets']\n",
      " ['Mumbai Indians' 'wickets']\n",
      " ['Chennai Super Kings' 'wickets']\n",
      " ['Kings XI Punjab' 'runs']\n",
      " ['Mumbai Indians' 'wickets']\n",
      " ['Kochi Tuskers Kerala' 'runs']\n",
      " ['Sunrisers Hyderabad' 'runs']\n",
      " ['Deccan Chargers' 'wickets']\n",
      " ['Sunrisers Hyderabad' 'runs']\n",
      " ['Kings XI Punjab' 'wickets']\n",
      " ['Rajasthan Royals' 'wickets']\n",
      " ['Delhi Daredevils' 'wickets']\n",
      " ['Rajasthan Royals' 'wickets']\n",
      " ['Rajasthan Royals' 'wickets']\n",
      " ['Delhi Capitals' 'tie']\n",
      " ['Kings XI Punjab' 'runs']\n",
      " ['Mumbai Indians' 'wickets']\n",
      " ['Chennai Super Kings' 'wickets']\n",
      " ['Kings XI Punjab' 'runs']\n",
      " ['Sunrisers Hyderabad' 'wickets']\n",
      " ['Rajasthan Royals' 'wickets']\n",
      " ['Rajasthan Royals' 'runs']\n",
      " ['Royal Challengers Bangalore' 'wickets']\n",
      " ['Royal Challengers Bangalore' 'wickets']\n",
      " ['Kolkata Knight Riders' 'wickets']\n",
      " ['Sunrisers Hyderabad' 'wickets']\n",
      " ['Kolkata Knight Riders' 'runs']\n",
      " ['Sunrisers Hyderabad' 'runs']\n",
      " ['Sunrisers Hyderabad' 'wickets']\n",
      " ['Rajasthan Royals' 'runs']\n",
      " ['Kolkata Knight Riders' 'runs']\n",
      " ['Chennai Super Kings' 'wickets']\n",
      " ['Sunrisers Hyderabad' 'wickets']]\n"
     ]
    }
   ],
   "source": [
    "print(y_test)"
   ],
   "metadata": {
    "collapsed": false,
    "ExecuteTime": {
     "start_time": "2023-04-28T13:19:06.681774Z",
     "end_time": "2023-04-28T13:19:06.791210Z"
    }
   }
  },
  {
   "cell_type": "markdown",
   "source": [
    "Assigning unique numbers to the categorical data"
   ],
   "metadata": {
    "collapsed": false
   }
  },
  {
   "cell_type": "code",
   "execution_count": 53,
   "outputs": [],
   "source": [
    "from sklearn.preprocessing import LabelEncoder\n",
    "le = LabelEncoder()\n",
    "X_train[:, 3] = le.fit_transform(X_train[:, 3])\n",
    "X_train[:, 4] = le.fit_transform(X_train[:, 4])\n",
    "X_train[:, 5] = le.fit_transform(X_train[:, 5])\n",
    "X_train[:, 6] = le.fit_transform(X_train[:, 6])\n",
    "X_train[:, 7] = le.fit_transform(X_train[:, 7])\n",
    "X_train[:, 8] = le.fit_transform(X_train[:, 8])"
   ],
   "metadata": {
    "collapsed": false,
    "ExecuteTime": {
     "start_time": "2023-04-28T13:19:08.417227Z",
     "end_time": "2023-04-28T13:19:08.483067Z"
    }
   }
  },
  {
   "cell_type": "code",
   "execution_count": 54,
   "outputs": [
    {
     "name": "stdout",
     "output_type": "stream",
     "text": [
      "[[501262 'Mumbai' '2011-05-19' ... 9 7 7]\n",
      " [1136613 'Jaipur' '2018-05-19' ... 10 13 10]\n",
      " [336023 'Jaipur' '2008-05-17' ... 10 13 13]\n",
      " ...\n",
      " [392197 'Port Elizabeth' '2009-04-27' ... 7 8 8]\n",
      " [501259 'Mumbai' '2011-05-16' ... 9 1 1]\n",
      " [336019 'Chandigarh' '2008-05-28' ... 5 10 10]]\n"
     ]
    }
   ],
   "source": [
    "print(X_train)"
   ],
   "metadata": {
    "collapsed": false,
    "ExecuteTime": {
     "start_time": "2023-04-28T13:19:09.277409Z",
     "end_time": "2023-04-28T13:19:09.311189Z"
    }
   }
  },
  {
   "cell_type": "markdown",
   "source": [
    "Plotting graphs to visualize the data between\n",
    "1)toss winner and match winner\n",
    "2)Venue and match winner\n",
    "3)Toss decision and match winner"
   ],
   "metadata": {
    "collapsed": false
   }
  },
  {
   "cell_type": "code",
   "execution_count": 55,
   "outputs": [
    {
     "data": {
      "text/plain": "<AxesSubplot:xlabel='toss_winner', ylabel='count'>"
     },
     "execution_count": 55,
     "metadata": {},
     "output_type": "execute_result"
    },
    {
     "data": {
      "text/plain": "<Figure size 640x480 with 1 Axes>",
      "image/png": "[encoded data removed]"
     },
     "metadata": {},
     "output_type": "display_data"
    }
   ],
   "source": [
    "import seaborn as sns\n",
    "sns.countplot(x='toss_winner',hue='winner',data=dataset)"
   ],
   "metadata": {
    "collapsed": false,
    "ExecuteTime": {
     "start_time": "2023-04-28T13:19:11.004832Z",
     "end_time": "2023-04-28T13:19:13.821240Z"
    }
   }
  },
  {
   "cell_type": "code",
   "execution_count": 56,
   "outputs": [],
   "source": [
    "match_winner = dataset['winner']"
   ],
   "metadata": {
    "collapsed": false,
    "ExecuteTime": {
     "start_time": "2023-04-28T13:19:13.809844Z",
     "end_time": "2023-04-28T13:19:13.822171Z"
    }
   }
  },
  {
   "cell_type": "code",
   "execution_count": 57,
   "outputs": [],
   "source": [
    "toss_winner = dataset['toss_winner']"
   ],
   "metadata": {
    "collapsed": false,
    "ExecuteTime": {
     "start_time": "2023-04-28T13:19:17.706947Z",
     "end_time": "2023-04-28T13:19:17.765856Z"
    }
   }
  },
  {
   "cell_type": "code",
   "execution_count": 58,
   "outputs": [],
   "source": [
    "#Replacing the team names with numbers\n",
    "toss_winner = toss_winner.replace(['Mumbai Indians','Kolkata Knight Riders','Royal Challengers Bangalore','Chennai Super Kings','Kings XI Punjab','Rajasthan Royals','Delhi Daredevils','Sunrisers Hyderabad','Deccan Chargers','Gujarat Lions','Rising Pune Supergiant','Kochi Tuskers Kerala','Pune Warriors','Rising Pune Supergiants','Delhi Capitals'],['1','2','3','4','5','6','7','8','9','10','11','12','13','14','15'])"
   ],
   "metadata": {
    "collapsed": false,
    "ExecuteTime": {
     "start_time": "2023-04-28T13:19:18.958051Z",
     "end_time": "2023-04-28T13:19:19.040108Z"
    }
   }
  },
  {
   "cell_type": "code",
   "execution_count": 59,
   "outputs": [],
   "source": [
    "#Converting the data into integer\n",
    "toss_winner = toss_winner.astype(int)"
   ],
   "metadata": {
    "collapsed": false,
    "ExecuteTime": {
     "start_time": "2023-04-28T13:19:20.032024Z",
     "end_time": "2023-04-28T13:19:20.145234Z"
    }
   }
  },
  {
   "cell_type": "code",
   "execution_count": 60,
   "outputs": [],
   "source": [
    "match_winner = match_winner.replace(['Mumbai Indians','Kolkata Knight Riders','Royal Challengers Bangalore','Chennai Super Kings','Kings XI Punjab','Rajasthan Royals','Delhi Daredevils','Sunrisers Hyderabad','Deccan Chargers','Gujarat Lions','Rising Pune Supergiant','Kochi Tuskers Kerala','Pune Warriors','Rising Pune Supergiants','Delhi Capitals'],['1','2','3','4','5','6','7','8','9','10','11','12','13','14','15'])"
   ],
   "metadata": {
    "collapsed": false,
    "ExecuteTime": {
     "start_time": "2023-04-28T13:19:20.923220Z",
     "end_time": "2023-04-28T13:19:21.010774Z"
    }
   }
  },
  {
   "cell_type": "code",
   "execution_count": 61,
   "outputs": [],
   "source": [
    "#Replacing nan values with 0\n",
    "match_winner = match_winner.replace(np.nan,0)\n",
    "\n",
    "\n"
   ],
   "metadata": {
    "collapsed": false,
    "ExecuteTime": {
     "start_time": "2023-04-28T13:19:22.007154Z",
     "end_time": "2023-04-28T13:19:22.076590Z"
    }
   }
  },
  {
   "cell_type": "code",
   "execution_count": 62,
   "outputs": [],
   "source": [
    "#Converting the data into integer\n",
    "match_winner = match_winner.astype(int)"
   ],
   "metadata": {
    "collapsed": false,
    "ExecuteTime": {
     "start_time": "2023-04-28T13:19:22.994476Z",
     "end_time": "2023-04-28T13:19:23.077464Z"
    }
   }
  },
  {
   "cell_type": "code",
   "execution_count": 63,
   "outputs": [],
   "source": [
    "#Reshaping the data\n",
    "toss_winner = toss_winner.values.reshape(-1,1)\n",
    "match_winner = match_winner.values.reshape(-1,1)"
   ],
   "metadata": {
    "collapsed": false,
    "ExecuteTime": {
     "start_time": "2023-04-28T13:19:23.920149Z",
     "end_time": "2023-04-28T13:19:23.944435Z"
    }
   }
  },
  {
   "cell_type": "markdown",
   "source": [
    "Support Vector Regression To Predict The Winner Of The Match based on the toss winner"
   ],
   "metadata": {
    "collapsed": false
   }
  },
  {
   "cell_type": "code",
   "execution_count": 64,
   "outputs": [
    {
     "name": "stderr",
     "output_type": "stream",
     "text": [
      "/home/harsh/.local/lib/python3.10/site-packages/sklearn/utils/validation.py:1143: DataConversionWarning: A column-vector y was passed when a 1d array was expected. Please change the shape of y to (n_samples, ), for example using ravel().\n",
      "  y = column_or_1d(y, warn=True)\n"
     ]
    },
    {
     "data": {
      "text/plain": "SVR()",
      "text/html": "<style>#sk-container-id-6 {color: black;background-color: white;}#sk-container-id-6 pre{padding: 0;}#sk-container-id-6 div.sk-toggleable {background-color: white;}#sk-container-id-6 label.sk-toggleable__label {cursor: pointer;display: block;width: 100%;margin-bottom: 0;padding: 0.3em;box-sizing: border-box;text-align: center;}#sk-container-id-6 label.sk-toggleable__label-arrow:before {content: \"▸\";float: left;margin-right: 0.25em;color: #696969;}#sk-container-id-6 label.sk-toggleable__label-arrow:hover:before {color: black;}#sk-container-id-6 div.sk-estimator:hover label.sk-toggleable__label-arrow:before {color: black;}#sk-container-id-6 div.sk-toggleable__content {max-height: 0;max-width: 0;overflow: hidden;text-align: left;background-color: #f0f8ff;}#sk-container-id-6 div.sk-toggleable__content pre {margin: 0.2em;color: black;border-radius: 0.25em;background-color: #f0f8ff;}#sk-container-id-6 input.sk-toggleable__control:checked~div.sk-toggleable__content {max-height: 200px;max-width: 100%;overflow: auto;}#sk-container-id-6 input.sk-toggleable__control:checked~label.sk-toggleable__label-arrow:before {content: \"▾\";}#sk-container-id-6 div.sk-estimator input.sk-toggleable__control:checked~label.sk-toggleable__label {background-color: #d4ebff;}#sk-container-id-6 div.sk-label input.sk-toggleable__control:checked~label.sk-toggleable__label {background-color: #d4ebff;}#sk-container-id-6 input.sk-hidden--visually {border: 0;clip: rect(1px 1px 1px 1px);clip: rect(1px, 1px, 1px, 1px);height: 1px;margin: -1px;overflow: hidden;padding: 0;position: absolute;width: 1px;}#sk-container-id-6 div.sk-estimator {font-family: monospace;background-color: #f0f8ff;border: 1px dotted black;border-radius: 0.25em;box-sizing: border-box;margin-bottom: 0.5em;}#sk-container-id-6 div.sk-estimator:hover {background-color: #d4ebff;}#sk-container-id-6 div.sk-parallel-item::after {content: \"\";width: 100%;border-bottom: 1px solid gray;flex-grow: 1;}#sk-container-id-6 div.sk-label:hover label.sk-toggleable__label {background-color: #d4ebff;}#sk-container-id-6 div.sk-serial::before {content: \"\";position: absolute;border-left: 1px solid gray;box-sizing: border-box;top: 0;bottom: 0;left: 50%;z-index: 0;}#sk-container-id-6 div.sk-serial {display: flex;flex-direction: column;align-items: center;background-color: white;padding-right: 0.2em;padding-left: 0.2em;position: relative;}#sk-container-id-6 div.sk-item {position: relative;z-index: 1;}#sk-container-id-6 div.sk-parallel {display: flex;align-items: stretch;justify-content: center;background-color: white;position: relative;}#sk-container-id-6 div.sk-item::before, #sk-container-id-6 div.sk-parallel-item::before {content: \"\";position: absolute;border-left: 1px solid gray;box-sizing: border-box;top: 0;bottom: 0;left: 50%;z-index: -1;}#sk-container-id-6 div.sk-parallel-item {display: flex;flex-direction: column;z-index: 1;position: relative;background-color: white;}#sk-container-id-6 div.sk-parallel-item:first-child::after {align-self: flex-end;width: 50%;}#sk-container-id-6 div.sk-parallel-item:last-child::after {align-self: flex-start;width: 50%;}#sk-container-id-6 div.sk-parallel-item:only-child::after {width: 0;}#sk-container-id-6 div.sk-dashed-wrapped {border: 1px dashed gray;margin: 0 0.4em 0.5em 0.4em;box-sizing: border-box;padding-bottom: 0.4em;background-color: white;}#sk-container-id-6 div.sk-label label {font-family: monospace;font-weight: bold;display: inline-block;line-height: 1.2em;}#sk-container-id-6 div.sk-label-container {text-align: center;}#sk-container-id-6 div.sk-container {/* jupyter's `normalize.less` sets `[hidden] { display: none; }` but bootstrap.min.css set `[hidden] { display: none !important; }` so we also need the `!important` here to be able to override the default hidden behavior on the sphinx rendered scikit-learn.org. See: https://github.com/scikit-learn/scikit-learn/issues/21755 */display: inline-block !important;position: relative;}#sk-container-id-6 div.sk-text-repr-fallback {display: none;}</style><div id=\"sk-container-id-6\" class=\"sk-top-container\"><div class=\"sk-text-repr-fallback\"><pre>SVR()</pre><b>In a Jupyter environment, please rerun this cell to show the HTML representation or trust the notebook. <br />On GitHub, the HTML representation is unable to render, please try loading this page with nbviewer.org.</b></div><div class=\"sk-container\" hidden><div class=\"sk-item\"><div class=\"sk-estimator sk-toggleable\"><input class=\"sk-toggleable__control sk-hidden--visually\" id=\"sk-estimator-id-6\" type=\"checkbox\" checked><label for=\"sk-estimator-id-6\" class=\"sk-toggleable__label sk-toggleable__label-arrow\">SVR</label><div class=\"sk-toggleable__content\"><pre>SVR()</pre></div></div></div></div></div>"
     },
     "execution_count": 64,
     "metadata": {},
     "output_type": "execute_result"
    }
   ],
   "source": [
    "from sklearn.svm import SVR\n",
    "regressor = SVR(kernel = 'rbf')\n",
    "regressor.fit(toss_winner,match_winner )\n",
    "\n"
   ],
   "metadata": {
    "collapsed": false,
    "ExecuteTime": {
     "start_time": "2023-04-28T13:19:25.783066Z",
     "end_time": "2023-04-28T13:19:25.934550Z"
    }
   }
  },
  {
   "cell_type": "code",
   "execution_count": 65,
   "outputs": [
    {
     "data": {
      "text/plain": "0.014830862490837982"
     },
     "execution_count": 65,
     "metadata": {},
     "output_type": "execute_result"
    }
   ],
   "source": [
    "regressor.score(toss_winner,match_winner)"
   ],
   "metadata": {
    "collapsed": false,
    "ExecuteTime": {
     "start_time": "2023-04-28T13:19:27.810004Z",
     "end_time": "2023-04-28T13:19:27.934358Z"
    }
   }
  },
  {
   "cell_type": "code",
   "execution_count": 66,
   "outputs": [
    {
     "data": {
      "text/plain": "array([1.20994611])"
     },
     "execution_count": 66,
     "metadata": {},
     "output_type": "execute_result"
    }
   ],
   "source": [
    "regressor.predict([[1]])"
   ],
   "metadata": {
    "collapsed": false,
    "ExecuteTime": {
     "start_time": "2023-04-28T13:19:32.849838Z",
     "end_time": "2023-04-28T13:19:32.970207Z"
    }
   }
  },
  {
   "cell_type": "markdown",
   "source": [
    "Trying different models to predict the winner of the match based on the toss winner"
   ],
   "metadata": {
    "collapsed": false
   }
  },
  {
   "cell_type": "code",
   "execution_count": 67,
   "outputs": [
    {
     "data": {
      "text/plain": "LinearRegression()",
      "text/html": "<style>#sk-container-id-7 {color: black;background-color: white;}#sk-container-id-7 pre{padding: 0;}#sk-container-id-7 div.sk-toggleable {background-color: white;}#sk-container-id-7 label.sk-toggleable__label {cursor: pointer;display: block;width: 100%;margin-bottom: 0;padding: 0.3em;box-sizing: border-box;text-align: center;}#sk-container-id-7 label.sk-toggleable__label-arrow:before {content: \"▸\";float: left;margin-right: 0.25em;color: #696969;}#sk-container-id-7 label.sk-toggleable__label-arrow:hover:before {color: black;}#sk-container-id-7 div.sk-estimator:hover label.sk-toggleable__label-arrow:before {color: black;}#sk-container-id-7 div.sk-toggleable__content {max-height: 0;max-width: 0;overflow: hidden;text-align: left;background-color: #f0f8ff;}#sk-container-id-7 div.sk-toggleable__content pre {margin: 0.2em;color: black;border-radius: 0.25em;background-color: #f0f8ff;}#sk-container-id-7 input.sk-toggleable__control:checked~div.sk-toggleable__content {max-height: 200px;max-width: 100%;overflow: auto;}#sk-container-id-7 input.sk-toggleable__control:checked~label.sk-toggleable__label-arrow:before {content: \"▾\";}#sk-container-id-7 div.sk-estimator input.sk-toggleable__control:checked~label.sk-toggleable__label {background-color: #d4ebff;}#sk-container-id-7 div.sk-label input.sk-toggleable__control:checked~label.sk-toggleable__label {background-color: #d4ebff;}#sk-container-id-7 input.sk-hidden--visually {border: 0;clip: rect(1px 1px 1px 1px);clip: rect(1px, 1px, 1px, 1px);height: 1px;margin: -1px;overflow: hidden;padding: 0;position: absolute;width: 1px;}#sk-container-id-7 div.sk-estimator {font-family: monospace;background-color: #f0f8ff;border: 1px dotted black;border-radius: 0.25em;box-sizing: border-box;margin-bottom: 0.5em;}#sk-container-id-7 div.sk-estimator:hover {background-color: #d4ebff;}#sk-container-id-7 div.sk-parallel-item::after {content: \"\";width: 100%;border-bottom: 1px solid gray;flex-grow: 1;}#sk-container-id-7 div.sk-label:hover label.sk-toggleable__label {background-color: #d4ebff;}#sk-container-id-7 div.sk-serial::before {content: \"\";position: absolute;border-left: 1px solid gray;box-sizing: border-box;top: 0;bottom: 0;left: 50%;z-index: 0;}#sk-container-id-7 div.sk-serial {display: flex;flex-direction: column;align-items: center;background-color: white;padding-right: 0.2em;padding-left: 0.2em;position: relative;}#sk-container-id-7 div.sk-item {position: relative;z-index: 1;}#sk-container-id-7 div.sk-parallel {display: flex;align-items: stretch;justify-content: center;background-color: white;position: relative;}#sk-container-id-7 div.sk-item::before, #sk-container-id-7 div.sk-parallel-item::before {content: \"\";position: absolute;border-left: 1px solid gray;box-sizing: border-box;top: 0;bottom: 0;left: 50%;z-index: -1;}#sk-container-id-7 div.sk-parallel-item {display: flex;flex-direction: column;z-index: 1;position: relative;background-color: white;}#sk-container-id-7 div.sk-parallel-item:first-child::after {align-self: flex-end;width: 50%;}#sk-container-id-7 div.sk-parallel-item:last-child::after {align-self: flex-start;width: 50%;}#sk-container-id-7 div.sk-parallel-item:only-child::after {width: 0;}#sk-container-id-7 div.sk-dashed-wrapped {border: 1px dashed gray;margin: 0 0.4em 0.5em 0.4em;box-sizing: border-box;padding-bottom: 0.4em;background-color: white;}#sk-container-id-7 div.sk-label label {font-family: monospace;font-weight: bold;display: inline-block;line-height: 1.2em;}#sk-container-id-7 div.sk-label-container {text-align: center;}#sk-container-id-7 div.sk-container {/* jupyter's `normalize.less` sets `[hidden] { display: none; }` but bootstrap.min.css set `[hidden] { display: none !important; }` so we also need the `!important` here to be able to override the default hidden behavior on the sphinx rendered scikit-learn.org. See: https://github.com/scikit-learn/scikit-learn/issues/21755 */display: inline-block !important;position: relative;}#sk-container-id-7 div.sk-text-repr-fallback {display: none;}</style><div id=\"sk-container-id-7\" class=\"sk-top-container\"><div class=\"sk-text-repr-fallback\"><pre>LinearRegression()</pre><b>In a Jupyter environment, please rerun this cell to show the HTML representation or trust the notebook. <br />On GitHub, the HTML representation is unable to render, please try loading this page with nbviewer.org.</b></div><div class=\"sk-container\" hidden><div class=\"sk-item\"><div class=\"sk-estimator sk-toggleable\"><input class=\"sk-toggleable__control sk-hidden--visually\" id=\"sk-estimator-id-7\" type=\"checkbox\" checked><label for=\"sk-estimator-id-7\" class=\"sk-toggleable__label sk-toggleable__label-arrow\">LinearRegression</label><div class=\"sk-toggleable__content\"><pre>LinearRegression()</pre></div></div></div></div></div>"
     },
     "execution_count": 67,
     "metadata": {},
     "output_type": "execute_result"
    }
   ],
   "source": [
    "from sklearn.linear_model import LinearRegression\n",
    "regressor = LinearRegression()\n",
    "regressor.fit(toss_winner,match_winner)"
   ],
   "metadata": {
    "collapsed": false,
    "ExecuteTime": {
     "start_time": "2023-04-28T13:19:35.769599Z",
     "end_time": "2023-04-28T13:19:35.829537Z"
    }
   }
  },
  {
   "cell_type": "code",
   "execution_count": 68,
   "outputs": [
    {
     "data": {
      "text/plain": "0.17718905413197417"
     },
     "execution_count": 68,
     "metadata": {},
     "output_type": "execute_result"
    }
   ],
   "source": [
    "regressor.score(toss_winner,match_winner)"
   ],
   "metadata": {
    "collapsed": false,
    "ExecuteTime": {
     "start_time": "2023-04-28T13:19:36.911789Z",
     "end_time": "2023-04-28T13:19:37.000446Z"
    }
   }
  },
  {
   "cell_type": "code",
   "execution_count": 69,
   "outputs": [
    {
     "data": {
      "text/plain": "array([[3.20244297]])"
     },
     "execution_count": 69,
     "metadata": {},
     "output_type": "execute_result"
    }
   ],
   "source": [
    "regressor.predict([[1]])"
   ],
   "metadata": {
    "collapsed": false,
    "ExecuteTime": {
     "start_time": "2023-04-28T13:19:38.123018Z",
     "end_time": "2023-04-28T13:19:38.240767Z"
    }
   }
  },
  {
   "cell_type": "code",
   "execution_count": 70,
   "outputs": [
    {
     "data": {
      "text/plain": "DecisionTreeRegressor(random_state=0)",
      "text/html": "<style>#sk-container-id-8 {color: black;background-color: white;}#sk-container-id-8 pre{padding: 0;}#sk-container-id-8 div.sk-toggleable {background-color: white;}#sk-container-id-8 label.sk-toggleable__label {cursor: pointer;display: block;width: 100%;margin-bottom: 0;padding: 0.3em;box-sizing: border-box;text-align: center;}#sk-container-id-8 label.sk-toggleable__label-arrow:before {content: \"▸\";float: left;margin-right: 0.25em;color: #696969;}#sk-container-id-8 label.sk-toggleable__label-arrow:hover:before {color: black;}#sk-container-id-8 div.sk-estimator:hover label.sk-toggleable__label-arrow:before {color: black;}#sk-container-id-8 div.sk-toggleable__content {max-height: 0;max-width: 0;overflow: hidden;text-align: left;background-color: #f0f8ff;}#sk-container-id-8 div.sk-toggleable__content pre {margin: 0.2em;color: black;border-radius: 0.25em;background-color: #f0f8ff;}#sk-container-id-8 input.sk-toggleable__control:checked~div.sk-toggleable__content {max-height: 200px;max-width: 100%;overflow: auto;}#sk-container-id-8 input.sk-toggleable__control:checked~label.sk-toggleable__label-arrow:before {content: \"▾\";}#sk-container-id-8 div.sk-estimator input.sk-toggleable__control:checked~label.sk-toggleable__label {background-color: #d4ebff;}#sk-container-id-8 div.sk-label input.sk-toggleable__control:checked~label.sk-toggleable__label {background-color: #d4ebff;}#sk-container-id-8 input.sk-hidden--visually {border: 0;clip: rect(1px 1px 1px 1px);clip: rect(1px, 1px, 1px, 1px);height: 1px;margin: -1px;overflow: hidden;padding: 0;position: absolute;width: 1px;}#sk-container-id-8 div.sk-estimator {font-family: monospace;background-color: #f0f8ff;border: 1px dotted black;border-radius: 0.25em;box-sizing: border-box;margin-bottom: 0.5em;}#sk-container-id-8 div.sk-estimator:hover {background-color: #d4ebff;}#sk-container-id-8 div.sk-parallel-item::after {content: \"\";width: 100%;border-bottom: 1px solid gray;flex-grow: 1;}#sk-container-id-8 div.sk-label:hover label.sk-toggleable__label {background-color: #d4ebff;}#sk-container-id-8 div.sk-serial::before {content: \"\";position: absolute;border-left: 1px solid gray;box-sizing: border-box;top: 0;bottom: 0;left: 50%;z-index: 0;}#sk-container-id-8 div.sk-serial {display: flex;flex-direction: column;align-items: center;background-color: white;padding-right: 0.2em;padding-left: 0.2em;position: relative;}#sk-container-id-8 div.sk-item {position: relative;z-index: 1;}#sk-container-id-8 div.sk-parallel {display: flex;align-items: stretch;justify-content: center;background-color: white;position: relative;}#sk-container-id-8 div.sk-item::before, #sk-container-id-8 div.sk-parallel-item::before {content: \"\";position: absolute;border-left: 1px solid gray;box-sizing: border-box;top: 0;bottom: 0;left: 50%;z-index: -1;}#sk-container-id-8 div.sk-parallel-item {display: flex;flex-direction: column;z-index: 1;position: relative;background-color: white;}#sk-container-id-8 div.sk-parallel-item:first-child::after {align-self: flex-end;width: 50%;}#sk-container-id-8 div.sk-parallel-item:last-child::after {align-self: flex-start;width: 50%;}#sk-container-id-8 div.sk-parallel-item:only-child::after {width: 0;}#sk-container-id-8 div.sk-dashed-wrapped {border: 1px dashed gray;margin: 0 0.4em 0.5em 0.4em;box-sizing: border-box;padding-bottom: 0.4em;background-color: white;}#sk-container-id-8 div.sk-label label {font-family: monospace;font-weight: bold;display: inline-block;line-height: 1.2em;}#sk-container-id-8 div.sk-label-container {text-align: center;}#sk-container-id-8 div.sk-container {/* jupyter's `normalize.less` sets `[hidden] { display: none; }` but bootstrap.min.css set `[hidden] { display: none !important; }` so we also need the `!important` here to be able to override the default hidden behavior on the sphinx rendered scikit-learn.org. See: https://github.com/scikit-learn/scikit-learn/issues/21755 */display: inline-block !important;position: relative;}#sk-container-id-8 div.sk-text-repr-fallback {display: none;}</style><div id=\"sk-container-id-8\" class=\"sk-top-container\"><div class=\"sk-text-repr-fallback\"><pre>DecisionTreeRegressor(random_state=0)</pre><b>In a Jupyter environment, please rerun this cell to show the HTML representation or trust the notebook. <br />On GitHub, the HTML representation is unable to render, please try loading this page with nbviewer.org.</b></div><div class=\"sk-container\" hidden><div class=\"sk-item\"><div class=\"sk-estimator sk-toggleable\"><input class=\"sk-toggleable__control sk-hidden--visually\" id=\"sk-estimator-id-8\" type=\"checkbox\" checked><label for=\"sk-estimator-id-8\" class=\"sk-toggleable__label sk-toggleable__label-arrow\">DecisionTreeRegressor</label><div class=\"sk-toggleable__content\"><pre>DecisionTreeRegressor(random_state=0)</pre></div></div></div></div></div>"
     },
     "execution_count": 70,
     "metadata": {},
     "output_type": "execute_result"
    }
   ],
   "source": [
    "from sklearn.tree import DecisionTreeRegressor\n",
    "regressor = DecisionTreeRegressor(random_state = 0)\n",
    "regressor.fit(toss_winner,match_winner)"
   ],
   "metadata": {
    "collapsed": false,
    "ExecuteTime": {
     "start_time": "2023-04-28T13:19:39.581408Z",
     "end_time": "2023-04-28T13:19:39.744397Z"
    }
   }
  },
  {
   "cell_type": "code",
   "execution_count": 71,
   "outputs": [
    {
     "data": {
      "text/plain": "0.20463878817917924"
     },
     "execution_count": 71,
     "metadata": {},
     "output_type": "execute_result"
    }
   ],
   "source": [
    "regressor.score(toss_winner,match_winner)"
   ],
   "metadata": {
    "collapsed": false,
    "ExecuteTime": {
     "start_time": "2023-04-28T13:19:40.922586Z",
     "end_time": "2023-04-28T13:19:41.006628Z"
    }
   }
  },
  {
   "cell_type": "code",
   "execution_count": 72,
   "outputs": [
    {
     "data": {
      "text/plain": "array([3.09433962])"
     },
     "execution_count": 72,
     "metadata": {},
     "output_type": "execute_result"
    }
   ],
   "source": [
    "regressor.predict([[1]])"
   ],
   "metadata": {
    "collapsed": false,
    "ExecuteTime": {
     "start_time": "2023-04-28T13:19:42.245851Z",
     "end_time": "2023-04-28T13:19:42.389170Z"
    }
   }
  },
  {
   "cell_type": "code",
   "execution_count": 73,
   "outputs": [
    {
     "name": "stderr",
     "output_type": "stream",
     "text": [
      "/tmp/ipykernel_6055/2864916114.py:3: DataConversionWarning: A column-vector y was passed when a 1d array was expected. Please change the shape of y to (n_samples,), for example using ravel().\n",
      "  regressor.fit(toss_winner,match_winner)\n"
     ]
    },
    {
     "data": {
      "text/plain": "RandomForestRegressor(n_estimators=10, random_state=0)",
      "text/html": "<style>#sk-container-id-9 {color: black;background-color: white;}#sk-container-id-9 pre{padding: 0;}#sk-container-id-9 div.sk-toggleable {background-color: white;}#sk-container-id-9 label.sk-toggleable__label {cursor: pointer;display: block;width: 100%;margin-bottom: 0;padding: 0.3em;box-sizing: border-box;text-align: center;}#sk-container-id-9 label.sk-toggleable__label-arrow:before {content: \"▸\";float: left;margin-right: 0.25em;color: #696969;}#sk-container-id-9 label.sk-toggleable__label-arrow:hover:before {color: black;}#sk-container-id-9 div.sk-estimator:hover label.sk-toggleable__label-arrow:before {color: black;}#sk-container-id-9 div.sk-toggleable__content {max-height: 0;max-width: 0;overflow: hidden;text-align: left;background-color: #f0f8ff;}#sk-container-id-9 div.sk-toggleable__content pre {margin: 0.2em;color: black;border-radius: 0.25em;background-color: #f0f8ff;}#sk-container-id-9 input.sk-toggleable__control:checked~div.sk-toggleable__content {max-height: 200px;max-width: 100%;overflow: auto;}#sk-container-id-9 input.sk-toggleable__control:checked~label.sk-toggleable__label-arrow:before {content: \"▾\";}#sk-container-id-9 div.sk-estimator input.sk-toggleable__control:checked~label.sk-toggleable__label {background-color: #d4ebff;}#sk-container-id-9 div.sk-label input.sk-toggleable__control:checked~label.sk-toggleable__label {background-color: #d4ebff;}#sk-container-id-9 input.sk-hidden--visually {border: 0;clip: rect(1px 1px 1px 1px);clip: rect(1px, 1px, 1px, 1px);height: 1px;margin: -1px;overflow: hidden;padding: 0;position: absolute;width: 1px;}#sk-container-id-9 div.sk-estimator {font-family: monospace;background-color: #f0f8ff;border: 1px dotted black;border-radius: 0.25em;box-sizing: border-box;margin-bottom: 0.5em;}#sk-container-id-9 div.sk-estimator:hover {background-color: #d4ebff;}#sk-container-id-9 div.sk-parallel-item::after {content: \"\";width: 100%;border-bottom: 1px solid gray;flex-grow: 1;}#sk-container-id-9 div.sk-label:hover label.sk-toggleable__label {background-color: #d4ebff;}#sk-container-id-9 div.sk-serial::before {content: \"\";position: absolute;border-left: 1px solid gray;box-sizing: border-box;top: 0;bottom: 0;left: 50%;z-index: 0;}#sk-container-id-9 div.sk-serial {display: flex;flex-direction: column;align-items: center;background-color: white;padding-right: 0.2em;padding-left: 0.2em;position: relative;}#sk-container-id-9 div.sk-item {position: relative;z-index: 1;}#sk-container-id-9 div.sk-parallel {display: flex;align-items: stretch;justify-content: center;background-color: white;position: relative;}#sk-container-id-9 div.sk-item::before, #sk-container-id-9 div.sk-parallel-item::before {content: \"\";position: absolute;border-left: 1px solid gray;box-sizing: border-box;top: 0;bottom: 0;left: 50%;z-index: -1;}#sk-container-id-9 div.sk-parallel-item {display: flex;flex-direction: column;z-index: 1;position: relative;background-color: white;}#sk-container-id-9 div.sk-parallel-item:first-child::after {align-self: flex-end;width: 50%;}#sk-container-id-9 div.sk-parallel-item:last-child::after {align-self: flex-start;width: 50%;}#sk-container-id-9 div.sk-parallel-item:only-child::after {width: 0;}#sk-container-id-9 div.sk-dashed-wrapped {border: 1px dashed gray;margin: 0 0.4em 0.5em 0.4em;box-sizing: border-box;padding-bottom: 0.4em;background-color: white;}#sk-container-id-9 div.sk-label label {font-family: monospace;font-weight: bold;display: inline-block;line-height: 1.2em;}#sk-container-id-9 div.sk-label-container {text-align: center;}#sk-container-id-9 div.sk-container {/* jupyter's `normalize.less` sets `[hidden] { display: none; }` but bootstrap.min.css set `[hidden] { display: none !important; }` so we also need the `!important` here to be able to override the default hidden behavior on the sphinx rendered scikit-learn.org. See: https://github.com/scikit-learn/scikit-learn/issues/21755 */display: inline-block !important;position: relative;}#sk-container-id-9 div.sk-text-repr-fallback {display: none;}</style><div id=\"sk-container-id-9\" class=\"sk-top-container\"><div class=\"sk-text-repr-fallback\"><pre>RandomForestRegressor(n_estimators=10, random_state=0)</pre><b>In a Jupyter environment, please rerun this cell to show the HTML representation or trust the notebook. <br />On GitHub, the HTML representation is unable to render, please try loading this page with nbviewer.org.</b></div><div class=\"sk-container\" hidden><div class=\"sk-item\"><div class=\"sk-estimator sk-toggleable\"><input class=\"sk-toggleable__control sk-hidden--visually\" id=\"sk-estimator-id-9\" type=\"checkbox\" checked><label for=\"sk-estimator-id-9\" class=\"sk-toggleable__label sk-toggleable__label-arrow\">RandomForestRegressor</label><div class=\"sk-toggleable__content\"><pre>RandomForestRegressor(n_estimators=10, random_state=0)</pre></div></div></div></div></div>"
     },
     "execution_count": 73,
     "metadata": {},
     "output_type": "execute_result"
    }
   ],
   "source": [
    "from sklearn.ensemble import RandomForestRegressor\n",
    "regressor = RandomForestRegressor(n_estimators = 10, random_state = 0)\n",
    "regressor.fit(toss_winner,match_winner)"
   ],
   "metadata": {
    "collapsed": false,
    "ExecuteTime": {
     "start_time": "2023-04-28T13:19:43.317306Z",
     "end_time": "2023-04-28T13:19:43.473010Z"
    }
   }
  },
  {
   "cell_type": "code",
   "execution_count": 74,
   "outputs": [
    {
     "data": {
      "text/plain": "0.2032806602813919"
     },
     "execution_count": 74,
     "metadata": {},
     "output_type": "execute_result"
    }
   ],
   "source": [
    "regressor.score(toss_winner,match_winner)"
   ],
   "metadata": {
    "collapsed": false,
    "ExecuteTime": {
     "start_time": "2023-04-28T13:19:44.471234Z",
     "end_time": "2023-04-28T13:19:44.550519Z"
    }
   }
  },
  {
   "cell_type": "code",
   "execution_count": 75,
   "outputs": [
    {
     "data": {
      "text/plain": "KNeighborsRegressor()",
      "text/html": "<style>#sk-container-id-10 {color: black;background-color: white;}#sk-container-id-10 pre{padding: 0;}#sk-container-id-10 div.sk-toggleable {background-color: white;}#sk-container-id-10 label.sk-toggleable__label {cursor: pointer;display: block;width: 100%;margin-bottom: 0;padding: 0.3em;box-sizing: border-box;text-align: center;}#sk-container-id-10 label.sk-toggleable__label-arrow:before {content: \"▸\";float: left;margin-right: 0.25em;color: #696969;}#sk-container-id-10 label.sk-toggleable__label-arrow:hover:before {color: black;}#sk-container-id-10 div.sk-estimator:hover label.sk-toggleable__label-arrow:before {color: black;}#sk-container-id-10 div.sk-toggleable__content {max-height: 0;max-width: 0;overflow: hidden;text-align: left;background-color: #f0f8ff;}#sk-container-id-10 div.sk-toggleable__content pre {margin: 0.2em;color: black;border-radius: 0.25em;background-color: #f0f8ff;}#sk-container-id-10 input.sk-toggleable__control:checked~div.sk-toggleable__content {max-height: 200px;max-width: 100%;overflow: auto;}#sk-container-id-10 input.sk-toggleable__control:checked~label.sk-toggleable__label-arrow:before {content: \"▾\";}#sk-container-id-10 div.sk-estimator input.sk-toggleable__control:checked~label.sk-toggleable__label {background-color: #d4ebff;}#sk-container-id-10 div.sk-label input.sk-toggleable__control:checked~label.sk-toggleable__label {background-color: #d4ebff;}#sk-container-id-10 input.sk-hidden--visually {border: 0;clip: rect(1px 1px 1px 1px);clip: rect(1px, 1px, 1px, 1px);height: 1px;margin: -1px;overflow: hidden;padding: 0;position: absolute;width: 1px;}#sk-container-id-10 div.sk-estimator {font-family: monospace;background-color: #f0f8ff;border: 1px dotted black;border-radius: 0.25em;box-sizing: border-box;margin-bottom: 0.5em;}#sk-container-id-10 div.sk-estimator:hover {background-color: #d4ebff;}#sk-container-id-10 div.sk-parallel-item::after {content: \"\";width: 100%;border-bottom: 1px solid gray;flex-grow: 1;}#sk-container-id-10 div.sk-label:hover label.sk-toggleable__label {background-color: #d4ebff;}#sk-container-id-10 div.sk-serial::before {content: \"\";position: absolute;border-left: 1px solid gray;box-sizing: border-box;top: 0;bottom: 0;left: 50%;z-index: 0;}#sk-container-id-10 div.sk-serial {display: flex;flex-direction: column;align-items: center;background-color: white;padding-right: 0.2em;padding-left: 0.2em;position: relative;}#sk-container-id-10 div.sk-item {position: relative;z-index: 1;}#sk-container-id-10 div.sk-parallel {display: flex;align-items: stretch;justify-content: center;background-color: white;position: relative;}#sk-container-id-10 div.sk-item::before, #sk-container-id-10 div.sk-parallel-item::before {content: \"\";position: absolute;border-left: 1px solid gray;box-sizing: border-box;top: 0;bottom: 0;left: 50%;z-index: -1;}#sk-container-id-10 div.sk-parallel-item {display: flex;flex-direction: column;z-index: 1;position: relative;background-color: white;}#sk-container-id-10 div.sk-parallel-item:first-child::after {align-self: flex-end;width: 50%;}#sk-container-id-10 div.sk-parallel-item:last-child::after {align-self: flex-start;width: 50%;}#sk-container-id-10 div.sk-parallel-item:only-child::after {width: 0;}#sk-container-id-10 div.sk-dashed-wrapped {border: 1px dashed gray;margin: 0 0.4em 0.5em 0.4em;box-sizing: border-box;padding-bottom: 0.4em;background-color: white;}#sk-container-id-10 div.sk-label label {font-family: monospace;font-weight: bold;display: inline-block;line-height: 1.2em;}#sk-container-id-10 div.sk-label-container {text-align: center;}#sk-container-id-10 div.sk-container {/* jupyter's `normalize.less` sets `[hidden] { display: none; }` but bootstrap.min.css set `[hidden] { display: none !important; }` so we also need the `!important` here to be able to override the default hidden behavior on the sphinx rendered scikit-learn.org. See: https://github.com/scikit-learn/scikit-learn/issues/21755 */display: inline-block !important;position: relative;}#sk-container-id-10 div.sk-text-repr-fallback {display: none;}</style><div id=\"sk-container-id-10\" class=\"sk-top-container\"><div class=\"sk-text-repr-fallback\"><pre>KNeighborsRegressor()</pre><b>In a Jupyter environment, please rerun this cell to show the HTML representation or trust the notebook. <br />On GitHub, the HTML representation is unable to render, please try loading this page with nbviewer.org.</b></div><div class=\"sk-container\" hidden><div class=\"sk-item\"><div class=\"sk-estimator sk-toggleable\"><input class=\"sk-toggleable__control sk-hidden--visually\" id=\"sk-estimator-id-10\" type=\"checkbox\" checked><label for=\"sk-estimator-id-10\" class=\"sk-toggleable__label sk-toggleable__label-arrow\">KNeighborsRegressor</label><div class=\"sk-toggleable__content\"><pre>KNeighborsRegressor()</pre></div></div></div></div></div>"
     },
     "execution_count": 75,
     "metadata": {},
     "output_type": "execute_result"
    }
   ],
   "source": [
    "from sklearn.neighbors import KNeighborsRegressor\n",
    "regressor = KNeighborsRegressor(n_neighbors = 5, metric = 'minkowski', p = 2)\n",
    "regressor.fit(toss_winner,match_winner)"
   ],
   "metadata": {
    "collapsed": false,
    "ExecuteTime": {
     "start_time": "2023-04-28T13:19:45.811250Z",
     "end_time": "2023-04-28T13:19:45.881296Z"
    }
   }
  },
  {
   "cell_type": "code",
   "execution_count": 76,
   "outputs": [
    {
     "data": {
      "text/plain": "0.1169411251698318"
     },
     "execution_count": 76,
     "metadata": {},
     "output_type": "execute_result"
    }
   ],
   "source": [
    "regressor.score(toss_winner,match_winner)"
   ],
   "metadata": {
    "collapsed": false,
    "ExecuteTime": {
     "start_time": "2023-04-28T13:19:46.961915Z",
     "end_time": "2023-04-28T13:19:47.230393Z"
    }
   }
  },
  {
   "cell_type": "code",
   "execution_count": null,
   "outputs": [],
   "source": [],
   "metadata": {
    "collapsed": false
   }
  }
 ],
 "metadata": {
  "kernelspec": {
   "name": "venv",
   "language": "python",
   "display_name": "venv"
  },
  "language_info": {
   "codemirror_mode": {
    "name": "ipython",
    "version": 2
   },
   "file_extension": ".py",
   "mimetype": "text/x-python",
   "name": "python",
   "nbconvert_exporter": "python",
   "pygments_lexer": "ipython2",
   "version": "2.7.6"
  }
 },
 "nbformat": 4,
 "nbformat_minor": 0
}
